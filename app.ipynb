{
 "cells": [
  {
   "cell_type": "code",
   "execution_count": null,
   "metadata": {},
   "outputs": [],
   "source": [
    "import panel as pn\n",
    "from bokeh.plotting import figure\n",
    "pn.extension()"
   ]
  },
  {
   "cell_type": "code",
   "execution_count": null,
   "metadata": {},
   "outputs": [],
   "source": [
    "def make_volume():\n",
    "    \"\"\"This function makes a 3D array of data, a brain scan\"\"\"\n",
    "    from skimage import io\n",
    "    vol = io.imread(\n",
    "#         \"https://s3.amazonaws.com/assets.datacamp.com/blog_assets/\" # Since the file has been downloaded\n",
    "        \"attention-mri.tif\")\n",
    "    return vol\n",
    "\n",
    "\n",
    "TOOLTIPS = [\n",
    "    (\"x\", \"$x\"),\n",
    "    (\"y\", \"$y\"),\n",
    "    (\"value\", \"@image\"),\n",
    "]\n",
    "shape = (157, 189, 68)\n",
    "volume = make_volume()\n",
    "inverted = False\n"
   ]
  },
  {
   "cell_type": "code",
   "execution_count": null,
   "metadata": {},
   "outputs": [],
   "source": [
    "def make():\n",
    "    \"\"\"Here we make a figure widget with a 2D image and put it in the layout\"\"\"\n",
    "    global inverted\n",
    "    p1 = figure(width=400, height=400, tools='hover,wheel_zoom',\n",
    "                tooltips=TOOLTIPS,\n",
    "                x_range=[0, 157], y_range=[0, 189])\n",
    "    if inverted:\n",
    "        p1.image(image=[volume[:, ::-1, 30]], x=[0], y=[0], dw=[157], dh=[189])\n",
    "    else:\n",
    "        p1.image(image=[volume[:, :, 30]], x=[0], y=[0], dw=[157], dh=[189])\n",
    "    widgets[1] = p1\n",
    "    inverted = not inverted"
   ]
  },
  {
   "cell_type": "code",
   "execution_count": null,
   "metadata": {},
   "outputs": [],
   "source": [
    "button = pn.widgets.Button(name='Invert')\n",
    "button.on_click(lambda *_: make())\n",
    "widgets = pn.Column(button, button)\n",
    "make()\n",
    "widgets\n"
   ]
  },
  {
   "cell_type": "code",
   "execution_count": null,
   "metadata": {},
   "outputs": [],
   "source": []
  }
 ],
 "metadata": {
  "kernelspec": {
   "display_name": "Python 3",
   "language": "python",
   "name": "python3"
  },
  "language_info": {
   "codemirror_mode": {
    "name": "ipython",
    "version": 3
   },
   "file_extension": ".py",
   "mimetype": "text/x-python",
   "name": "python",
   "nbconvert_exporter": "python",
   "pygments_lexer": "ipython3",
   "version": "3.7.2"
  }
 },
 "nbformat": 4,
 "nbformat_minor": 2
}
