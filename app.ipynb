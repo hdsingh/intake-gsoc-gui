{
 "cells": [
  {
   "cell_type": "code",
   "execution_count": null,
   "metadata": {},
   "outputs": [],
   "source": [
    "import panel as pn\n",
    "from bokeh.plotting import figure\n",
    "import holoviews as hv\n",
    "from holoviews.streams import Params\n",
    "hv.extension('bokeh')\n",
    "pn.extension()"
   ]
  },
  {
   "cell_type": "code",
   "execution_count": null,
   "metadata": {},
   "outputs": [],
   "source": [
    "def make_volume():\n",
    "    \"\"\"This function makes a 3D array of data, a brain scan\"\"\"\n",
    "    from skimage import io\n",
    "    vol = io.imread(\n",
    "#         \"https://s3.amazonaws.com/assets.datacamp.com/blog_assets/\" # Since the file has been downloaded\n",
    "        \"attention-mri.tif\")\n",
    "    return vol\n",
    "\n",
    "\n",
    "TOOLTIPS = [\n",
    "    (\"x\", \"$x\"),\n",
    "    (\"y\", \"$y\"),\n",
    "    (\"value\", \"@image\"),\n",
    "]\n",
    "shape = (157, 189, 68)\n",
    "volume = make_volume()\n",
    "inverted = False\n"
   ]
  },
  {
   "cell_type": "code",
   "execution_count": null,
   "metadata": {},
   "outputs": [],
   "source": [
    "def make():\n",
    "    \"\"\"Here we make a figure widget with a 2D image and put it in the layout\"\"\"\n",
    "    global inverted\n",
    "    p1 = figure(width=400, height=400, tools='hover,wheel_zoom',\n",
    "                tooltips=TOOLTIPS,\n",
    "                x_range=[0, 157], y_range=[0, 189])\n",
    "    if inverted:\n",
    "        p1.image(image=[volume[:, ::-1, 30]], x=[0], y=[0], dw=[157], dh=[189])\n",
    "    else:\n",
    "        p1.image(image=[volume[:, :, 30]], x=[0], y=[0], dw=[157], dh=[189])\n",
    "    widgets[1] = p1\n",
    "    inverted = not inverted"
   ]
  },
  {
   "cell_type": "code",
   "execution_count": null,
   "metadata": {},
   "outputs": [],
   "source": [
    "button = pn.widgets.Button(name='Invert')\n",
    "button.on_click(lambda *_: make())\n",
    "widgets = pn.Column(button, button)\n",
    "make()\n",
    "widgets\n"
   ]
  },
  {
   "cell_type": "code",
   "execution_count": null,
   "metadata": {},
   "outputs": [],
   "source": [
    "volume.shape"
   ]
  },
  {
   "cell_type": "markdown",
   "metadata": {},
   "source": [
    "### Simple Image"
   ]
  },
  {
   "cell_type": "code",
   "execution_count": null,
   "metadata": {},
   "outputs": [],
   "source": [
    "hv.Image(volume[:,:,0])"
   ]
  },
  {
   "cell_type": "code",
   "execution_count": null,
   "metadata": {},
   "outputs": [],
   "source": [
    "def get_brain_image(axes = 'XY',index = 0):\n",
    "    if axes == 'XY':\n",
    "        data = volume[:,:,index] \n",
    "    elif axes == 'XZ':\n",
    "        data = volume[:,index,:]\n",
    "    elif axes == 'YZ': \n",
    "        data = volume[index,:,:]\n",
    "    \n",
    "    image = hv.Image(data)\n",
    "    return image"
   ]
  },
  {
   "cell_type": "markdown",
   "metadata": {},
   "source": [
    "### Dmap for Index"
   ]
  },
  {
   "cell_type": "code",
   "execution_count": null,
   "metadata": {},
   "outputs": [],
   "source": [
    "dmap = hv.DynamicMap(get_brain_image, kdims=['index'])\n",
    "dmap.redim.range(index=(0,67))"
   ]
  },
  {
   "cell_type": "markdown",
   "metadata": {},
   "source": [
    "### Dmap for both axes and Index"
   ]
  },
  {
   "cell_type": "code",
   "execution_count": null,
   "metadata": {},
   "outputs": [],
   "source": [
    "axes_list = ['XY','XZ','YZ']\n",
    "dmap = hv.DynamicMap(get_brain_image, kdims=['axes','index'])\n",
    "dmap.redim.values(axes = axes_list,index = range(67))"
   ]
  },
  {
   "cell_type": "code",
   "execution_count": null,
   "metadata": {},
   "outputs": [],
   "source": []
  }
 ],
 "metadata": {
  "kernelspec": {
   "display_name": "Python 3",
   "language": "python",
   "name": "python3"
  },
  "language_info": {
   "codemirror_mode": {
    "name": "ipython",
    "version": 3
   },
   "file_extension": ".py",
   "mimetype": "text/x-python",
   "name": "python",
   "nbconvert_exporter": "python",
   "pygments_lexer": "ipython3",
   "version": "3.7.2"
  }
 },
 "nbformat": 4,
 "nbformat_minor": 2
}
